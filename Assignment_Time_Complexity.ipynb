{
  "nbformat": 4,
  "nbformat_minor": 0,
  "metadata": {
    "colab": {
      "provenance": []
    },
    "kernelspec": {
      "name": "python3",
      "display_name": "Python 3"
    },
    "language_info": {
      "name": "python"
    }
  },
  "cells": [
    {
      "cell_type": "markdown",
      "source": [
        "# Problem 1 :\n",
        "def quicksort(arr):\n",
        "if len(arr) <= 1:\n",
        "return arr\n",
        "pivot = arr[len(arr) // 2]\n",
        "left = [x for x in arr if x < pivot]\n",
        "middle = [x for x in arr if x == pivot]\n",
        "right = [x for x in arr if x > pivot]\n",
        "return quicksort(left) + middle + quicksort(right)\n",
        "\n",
        "Ans===   \n",
        "Best/Average Case:\n",
        "𝑂\n",
        "(\n",
        "𝑛\n",
        "log\n",
        "⁡\n",
        "𝑛\n",
        ")\n",
        "O(nlogn)\n",
        "\n",
        "Worst Case:\n",
        "𝑂\n",
        "(\n",
        "𝑛\n",
        "2\n",
        ")\n",
        "O(n\n",
        "2\n",
        " )\n",
        "\n",
        "Space Complexity:\n",
        "𝑂\n",
        "(\n",
        "𝑛\n",
        ")\n",
        "O(n) worst case,\n",
        "𝑂\n",
        "(\n",
        "log\n",
        "⁡\n",
        "𝑛\n",
        ")\n",
        "O(logn) best case."
      ],
      "metadata": {
        "id": "ScLb3qshgGBm"
      }
    },
    {
      "cell_type": "markdown",
      "source": [
        "Problem 2 :\n",
        "\n",
        "def nested_loop_example(matrix):\n",
        "rows, cols = len(matrix), len(matrix[0])\n",
        "total = 0\n",
        "for i in range(rows):\n",
        "for j in range(cols):\n",
        "total += matrix[i][j]\n",
        "return total\n",
        "\n",
        "Ans===\n",
        "time complexity is O(n × m)\n",
        "\n",
        "The space complexity is O(1)"
      ],
      "metadata": {
        "id": "QIvXJC03gXcr"
      }
    },
    {
      "cell_type": "markdown",
      "source": [
        "Problem 3 :\n",
        "\n",
        "def example_function(arr):\n",
        "result = 0\n",
        "for element in arr:\n",
        "result += element\n",
        "return result\n",
        "\n",
        "Ans==\n",
        "Time Complexity: O(n)\n",
        "\n",
        "Space Complexity: O(1)"
      ],
      "metadata": {
        "id": "EE0y977Wg1jX"
      }
    },
    {
      "cell_type": "markdown",
      "source": [
        "Problem 4 :\n",
        "\n",
        "def longest_increasing_subsequence(nums):\n",
        "n = len(nums)\n",
        "lis = [1] * n\n",
        "for i in range(1, n):\n",
        "for j in range(0, i):\n",
        "if nums[i] > nums[j] and lis[i] < lis[j] + 1:\n",
        "lis[i] = lis[j] + 1\n",
        "return max(lis)\n",
        "\n",
        "Ans==\n",
        "Time Complexity: O(n²)\n",
        "\n",
        "Space Complexity: O(n)"
      ],
      "metadata": {
        "id": "Bpe24lrphDZV"
      }
    },
    {
      "cell_type": "markdown",
      "source": [
        "Problem 5 :\n",
        "\n",
        "\n",
        "def mysterious_function(arr):\n",
        "n = len(arr)\n",
        "result = 0\n",
        "for i in range(n):\n",
        "for j in range(i, n):\n",
        "result += arr[i] * arr[j]\n",
        "return result\n",
        "\n",
        "ANs==\n",
        "Time Complexity: O(n²)\n",
        "\n",
        "Space Complexity: O(1)"
      ],
      "metadata": {
        "id": "Hf1jVYXchSvZ"
      }
    },
    {
      "cell_type": "markdown",
      "source": [
        "Problem 6 : Sum of Digits\n",
        "\n",
        "Write a recursive function to calculate the sum of digits of a given positive integer.\n",
        "\n",
        "sum_of_digits(123) -> 6\n",
        "\n",
        "Ans==\n",
        "Time Complexity: O(d)\n",
        "\n",
        "Space Complexity: O(d)"
      ],
      "metadata": {
        "id": "332veW_lhlWf"
      }
    },
    {
      "cell_type": "code",
      "source": [
        "def sum_of_digits(n):\n",
        "    if n == 0:\n",
        "        return 0\n",
        "    return (n % 10) + sum_of_digits(n // 10)\n",
        "\n",
        "# Example usage:\n",
        "print(sum_of_digits(123))  # Output: 6\n"
      ],
      "metadata": {
        "colab": {
          "base_uri": "https://localhost:8080/"
        },
        "id": "Do85p2cihr-Q",
        "outputId": "be93d25f-f9c8-4d14-f036-19e714cdb308"
      },
      "execution_count": null,
      "outputs": [
        {
          "output_type": "stream",
          "name": "stdout",
          "text": [
            "6\n"
          ]
        }
      ]
    },
    {
      "cell_type": "markdown",
      "source": [
        "Problem 7: Fibonacci Series\n",
        "\n",
        "Write a recursive function to generate the first n numbers of the Fibonacci series.\n",
        "\n",
        "fibonacci_series(6) -> [0, 1, 1, 2, 3, 5]\n",
        "\n",
        "Ans==\n",
        "Time Complexity: O(n)\n",
        "\n",
        "Space Complexity: O(n)"
      ],
      "metadata": {
        "id": "WEs_JI0hiBV5"
      }
    },
    {
      "cell_type": "code",
      "source": [
        "def fibonacci_series(n, series=[0, 1]):\n",
        "    if len(series) >= n:\n",
        "        return series[:n]\n",
        "    series.append(series[-1] + series[-2])\n",
        "    return fibonacci_series(n, series)\n",
        "\n",
        "# Example usage:\n",
        "print(fibonacci_series(6))  # Output: [0, 1, 1, 2, 3, 5]\n"
      ],
      "metadata": {
        "colab": {
          "base_uri": "https://localhost:8080/"
        },
        "id": "ohupUjiFiLbf",
        "outputId": "9566dbf3-c62a-479c-efd2-b6a113afaea5"
      },
      "execution_count": null,
      "outputs": [
        {
          "output_type": "stream",
          "name": "stdout",
          "text": [
            "[0, 1, 1, 2, 3, 5]\n"
          ]
        }
      ]
    },
    {
      "cell_type": "markdown",
      "source": [
        "Problem 8 : Subset Sum\n",
        "\n",
        "Given a set of positive integers and a target sum, write a recursive function to determine if there exists a subset\n",
        "of the integers that adds up to the target sum.\n",
        "\n",
        "subset_sum([3, 34, 4, 12, 5, 2], 9) -> True\n",
        "\n",
        "ANs==\n",
        "Time Complexity: O(2ⁿ)\n",
        "\n",
        "Space Complexity: O(n)"
      ],
      "metadata": {
        "id": "BtLJFEr9iWEy"
      }
    },
    {
      "cell_type": "code",
      "source": [
        "def subset_sum(nums, target, index=0):\n",
        "    if target == 0:\n",
        "        return True\n",
        "    if index >= len(nums) or target < 0:\n",
        "        return False\n",
        "\n",
        "    # Include the current number and check\n",
        "    include = subset_sum(nums, target - nums[index], index + 1)\n",
        "\n",
        "    # Exclude the current number and check\n",
        "    exclude = subset_sum(nums, target, index + 1)\n",
        "\n",
        "    return include or exclude\n",
        "\n",
        "# Example usage:\n",
        "print(subset_sum([3, 34, 4, 12, 5, 2], 9))  # Output: True\n"
      ],
      "metadata": {
        "colab": {
          "base_uri": "https://localhost:8080/"
        },
        "id": "m8NUllXnieca",
        "outputId": "6aeba37a-88e9-4a6f-dba1-d7561f784c4a"
      },
      "execution_count": null,
      "outputs": [
        {
          "output_type": "stream",
          "name": "stdout",
          "text": [
            "True\n"
          ]
        }
      ]
    },
    {
      "cell_type": "markdown",
      "source": [
        "Problem 9: Word Break\n",
        "\n",
        "Given a non-empty string and a dictionary of words, write a recursive function to determine if the string can be\n",
        "segmented into a space-separated sequence of dictionary words.\n",
        "\n",
        "word_break( leetcode , [ leet , code ]) -> True\n",
        "\n",
        "Ans==\n",
        "Time Complexity: O(2ⁿ)\n",
        "\n",
        "Space Complexity: O(n)"
      ],
      "metadata": {
        "id": "6oFXbCPKisak"
      }
    },
    {
      "cell_type": "code",
      "source": [
        "def word_break(s, word_dict):\n",
        "    if not s:\n",
        "        return True  # If the string is empty, it can be segmented\n",
        "\n",
        "    for word in word_dict:\n",
        "        if s.startswith(word):  # Check if the string starts with the dictionary word\n",
        "            if word_break(s[len(word):], word_dict):  # Recur on the remaining substring\n",
        "                return True\n",
        "\n",
        "    return False  # No valid segmentation found\n",
        "\n",
        "# Example usage:\n",
        "print(word_break(\"leetcode\", [\"leet\", \"code\"]))  # Output: True\n",
        "print(word_break(\"applepenapple\", [\"apple\", \"pen\"]))  # Output: True\n",
        "print(word_break(\"catsandog\", [\"cats\", \"dog\", \"sand\", \"and\", \"cat\"]))  # Output: False\n"
      ],
      "metadata": {
        "colab": {
          "base_uri": "https://localhost:8080/"
        },
        "id": "0LGSlWkNixar",
        "outputId": "974c4f20-609f-4ac7-c472-0b2c6ce12e77"
      },
      "execution_count": null,
      "outputs": [
        {
          "output_type": "stream",
          "name": "stdout",
          "text": [
            "True\n",
            "True\n",
            "False\n"
          ]
        }
      ]
    },
    {
      "cell_type": "markdown",
      "source": [
        "Problem 10 : N-Queens\n",
        "\n",
        "Implement a recursive function to solve the N Queens problem, where you have to place N queens on an N×N\n",
        "chessboard in such a way that no two queens threaten each other.\n",
        "\n",
        "n_queens(4)\n",
        "\n",
        "[\n",
        "[\".Q..\",\n",
        "\"...Q\",\n",
        "\"Q...\",\n",
        "\"..Q.\"],\n",
        "[\"..Q.\",\n",
        "\"Q...\",\n",
        "\"...Q\",\n",
        "\".Q..\"]\n",
        "]"
      ],
      "metadata": {
        "id": "M6ZEX-tdi6rW"
      }
    },
    {
      "cell_type": "code",
      "source": [
        "def solve_n_queens(n):\n",
        "    def is_safe(board, row, col):\n",
        "        for i in range(row):\n",
        "            if board[i] == col or \\\n",
        "               board[i] - i == col - row or \\\n",
        "               board[i] + i == col + row:\n",
        "                return False\n",
        "        return True\n",
        "\n",
        "    def solve(board, row, solutions):\n",
        "        if row == n:\n",
        "            solutions.append([\".\" * c + \"Q\" + \".\" * (n - c - 1) for c in board])\n",
        "            return\n",
        "        for col in range(n):\n",
        "            if is_safe(board, row, col):\n",
        "                board[row] = col\n",
        "                solve(board, row + 1, solutions)\n",
        "                board[row] = -1\n",
        "\n",
        "    solutions = []\n",
        "    solve([-1] * n, 0, solutions)\n",
        "    return solutions\n",
        "\n",
        "# Example usage:\n",
        "n = 4\n",
        "result = solve_n_queens(n)\n",
        "for solution in result:\n",
        "    for row in solution:\n",
        "        print(row)\n",
        "    print()\n"
      ],
      "metadata": {
        "colab": {
          "base_uri": "https://localhost:8080/"
        },
        "id": "N17vbC4_jILU",
        "outputId": "84ec55d1-b759-4a94-ee67-bf7773c718a3"
      },
      "execution_count": null,
      "outputs": [
        {
          "output_type": "stream",
          "name": "stdout",
          "text": [
            ".Q..\n",
            "...Q\n",
            "Q...\n",
            "..Q.\n",
            "\n",
            "..Q.\n",
            "Q...\n",
            "...Q\n",
            ".Q..\n",
            "\n"
          ]
        }
      ]
    }
  ]
}